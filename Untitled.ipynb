{
 "cells": [
  {
   "cell_type": "code",
   "execution_count": null,
   "metadata": {},
   "outputs": [],
   "source": [
    "ssAPIkey = 'qZWKkOKyzP5g9fgjyMmBt1MN2NTC6aT61UklAiyw' # approved for 100 req/sec\n",
    "ssBASE = 'http://api.semanticscholar.org/graph/v1/paper/'\n",
    "\n",
    "search_terms = 'data science\" or/and \"machine learning'\n",
    "ssENDPOINTsearch = f'search?query={search_terms}&offset=10&limit=50&fields=title,authors'"
   ]
  }
 ],
 "metadata": {
  "kernelspec": {
   "display_name": "Python [conda env:graph] *",
   "language": "python",
   "name": "conda-env-graph-py"
  },
  "language_info": {
   "codemirror_mode": {
    "name": "ipython",
    "version": 3
   },
   "file_extension": ".py",
   "mimetype": "text/x-python",
   "name": "python",
   "nbconvert_exporter": "python",
   "pygments_lexer": "ipython3",
   "version": "3.7.9"
  }
 },
 "nbformat": 4,
 "nbformat_minor": 4
}
