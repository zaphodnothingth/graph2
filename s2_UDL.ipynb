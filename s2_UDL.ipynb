{
  "cells": [
    {
      "cell_type": "markdown",
      "metadata": {
        "id": "AFGY46YRsQv3"
      },
      "source": [
        "todo:\n",
        "- email SS to ask if we can narrow api query & if they mind if we can't & get huge response\n",
        "- we don't want to have older pubs which wouldn't have bi-direcitonal relaitonships"
      ]
    },
    {
      "cell_type": "code",
      "execution_count": 1,
      "metadata": {
        "id": "DAjv1KGhqlaM"
      },
      "outputs": [],
      "source": [
        "import requests\n",
        "import json\n",
        "import math"
      ]
    },
    {
      "cell_type": "code",
      "execution_count": 2,
      "metadata": {
        "id": "8MdFlOcyp8QW"
      },
      "outputs": [],
      "source": [
        "ssAPIkey = 'qZWKkOKyzP5g9fgjyMmBt1MN2NTC6aT61UklAiyw' # approved for 100 req/sec\n",
        "headers = {'x-api-key': ssAPIkey}\n",
        "ssBASE = 'http://api.semanticscholar.org/graph/v1/paper/'\n",
        "fields = \"title,year,authors,referenceCount,isOpenAccess,fieldsOfStudy,s2FieldsOfStudy\"\n",
        "\n",
        "search_terms = '\"universal design for learning\" or \"udl\"'\n",
        "limit = 100\n",
        "offset = 0"
      ]
    },
    {
      "cell_type": "markdown",
      "metadata": {
        "id": "zejk3VuTJVJT"
      },
      "source": [
        "### Fetch Search Results"
      ]
    },
    {
      "cell_type": "code",
      "execution_count": 3,
      "metadata": {
        "colab": {
          "base_uri": "https://localhost:8080/"
        },
        "id": "LAAJ3II7q3VI",
        "outputId": "637bafde-3f51-4b53-b89c-46e6d3ab2f6f"
      },
      "outputs": [
        {
          "name": "stdout",
          "output_type": "stream",
          "text": [
            "search target result count: 948\n",
            "target papers written: 948\n"
          ]
        }
      ],
      "source": [
        "def fetch_papers(search_terms, limit, offset, fields):\n",
        "  ssENDPOINTsearch = 'search?' + \\\n",
        "                    f'&query={search_terms}' + \\\n",
        "                    f'&limit={limit}&offset={offset}' + \\\n",
        "                    f'&fields={fields}'\n",
        "  resp = requests.get(ssBASE + ssENDPOINTsearch, headers=headers)\n",
        "  data = resp.json()['data']\n",
        "  return resp, data\n",
        "\n",
        "\n",
        "def write_paper(data, nodeType='Target'):\n",
        "  with open('udl.jsonl','a') as fout:\n",
        "    for paper in data:\n",
        "      paper['nodeType'] = nodeType\n",
        "      json.dump(paper, fout)\n",
        "      fout.write('\\n') \n",
        "\n",
        "resp, data = fetch_papers(search_terms, limit, offset, fields)\n",
        "write_paper(data, nodeType='Target')\n",
        "print(f\"search target result count: {resp.json()['total']}\")\n",
        "\n",
        "while 'next' in resp.json():\n",
        "  try:\n",
        "    resp, data = fetch_papers(search_terms, limit, resp.json()['next'], fields)\n",
        "    write_paper(data, nodeType='Target')\n",
        "  except Exception as e: \n",
        "    print(e)\n",
        "    print('API maxes out around 10k')\n",
        "    break\n",
        "\n",
        "num_lines = sum(1 for line in open('udl.jsonl'))\n",
        "print(f'target papers written: {num_lines}')"
      ]
    },
    {
      "cell_type": "markdown",
      "metadata": {
        "id": "XbyNd889lM24"
      },
      "source": [
        "### Fetch References"
      ]
    },
    {
      "cell_type": "code",
      "execution_count": 4,
      "metadata": {
        "id": "TDRDgJiIlI-r"
      },
      "outputs": [],
      "source": [
        "def fetch_links(paperId, link_type):\n",
        "  resp = requests.get(ssBASE + \n",
        "                      paperId + f'/{link_type}s' + \n",
        "                      '?fields=' + fields, \n",
        "                      headers=headers)\n",
        "  data = resp.json()['data']\n",
        "  return resp, data\n",
        "\n",
        "\n",
        "def write_link(data, nodeType, target):\n",
        "  with open('udl_links.jsonl','a') as fout:\n",
        "    data['nodeType'] = nodeType\n",
        "    data['targetNode'] = target\n",
        "    json.dump(data, fout)\n",
        "    fout.write('\\n') \n",
        "\n",
        "\n",
        "with open('udl.jsonl','r') as targetFile:\n",
        "  for line in targetFile:\n",
        "    line = json.loads(line)\n",
        "    resp, data = fetch_links(line['paperId'], 'reference')\n",
        "    for ref in data:\n",
        "      write_link(ref['citedPaper'], nodeType='Reference', target=line['paperId']) # out links (papers cited by target)\n",
        "    resp, data = fetch_links(line['paperId'], 'citation')\n",
        "    for cit in data:\n",
        "      write_link(cit['citingPaper'], nodeType='Citation', target=line['paperId']) # in links (papers citing target)\n"
      ]
    }
  ],
  "metadata": {
    "colab": {
      "collapsed_sections": [],
      "name": "s2-UDL.ipynb",
      "provenance": []
    },
    "kernelspec": {
      "display_name": "Python 3",
      "name": "python3"
    },
    "language_info": {
      "codemirror_mode": {
        "name": "ipython",
        "version": 3
      },
      "file_extension": ".py",
      "mimetype": "text/x-python",
      "name": "python",
      "nbconvert_exporter": "python",
      "pygments_lexer": "ipython3",
      "version": "3.7.9"
    }
  },
  "nbformat": 4,
  "nbformat_minor": 0
}
